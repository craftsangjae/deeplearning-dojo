{
 "cells": [
  {
   "cell_type": "markdown",
   "metadata": {
    "colab_type": "text",
    "id": "skhc7UTeZrjs"
   },
   "source": [
    "### Objective\n",
    "\n",
    "`Maxout` Layer introduced in [Maxout Networks](https://arxiv.org/pdf/1302.4389.pdf) is a awesome activation layer. However, unlike normal activation (such as tanh, relu, sigmoid...), it does not operate in elementwise, but in pairwise, implementation technique is required.\n",
    "\n"
   ]
  },
  {
   "cell_type": "code",
   "execution_count": 1,
   "metadata": {
    "colab": {},
    "colab_type": "code",
    "id": "oduaXNMMZrju"
   },
   "outputs": [],
   "source": [
    "%matplotlib inline\n",
    "\n",
    "import numpy as np\n",
    "import tensorflow as tf\n",
    "\n",
    "import matplotlib.pyplot as plt"
   ]
  },
  {
   "cell_type": "markdown",
   "metadata": {
    "colab_type": "text",
    "id": "qDP1AqdzZrjy"
   },
   "source": [
    "## Create Custom Maxout Layer"
   ]
  },
  {
   "cell_type": "code",
   "execution_count": 2,
   "metadata": {
    "colab": {},
    "colab_type": "code",
    "id": "UqdLD3aGZrjz"
   },
   "outputs": [],
   "source": [
    "from tensorflow.keras import backend as K\n",
    "from tensorflow.keras.layers import Layer, Reshape\n",
    "from tensorflow.keras.utils import get_custom_objects\n",
    "\n",
    "class MaxOut(Layer):\n",
    "    def __init__(self, num_factor=2, **kwargs):\n",
    "        \"\"\"\n",
    "        initialize maxout layer\n",
    "        \n",
    "        * num factor : the number of elements to compare \n",
    "                       when calculating max operation,\n",
    "                       default = 2\n",
    "        \"\"\"\n",
    "        self.num_factor = num_factor\n",
    "        super().__init__(**kwargs)\n",
    "    \n",
    "    def build(self, input_shape):\n",
    "        if input_shape[-1] % self.num_factor != 0:\n",
    "            raise ValueError(\n",
    "                f\"the number of features on the last axis \"\n",
    "                f\"should be a multiple of num_factor.\\n\"\n",
    "                f\"* input shape : {input_shape}\\n\"\n",
    "                f\"* num factor : {self.num_factor}\\n\")\n",
    "        target_shape = (\n",
    "            input_shape[1:-1] \n",
    "            + [input_shape[-1]//self.num_factor] \n",
    "            + [self.num_factor])\n",
    "        self.reshape = Reshape(target_shape)        \n",
    "        super().build(input_shape)\n",
    "    \n",
    "    def call(self, inputs):\n",
    "        \"\"\"\n",
    "        reduce by max operation after reshape \n",
    "        based on the last axis(feature axis)\n",
    "        \"\"\"\n",
    "        reshaped = self.reshape(inputs)\n",
    "        return K.max(reshaped, axis=-1)\n",
    "    \n",
    "    def get_config(self):\n",
    "        \"\"\"\n",
    "        For saving and loading MaxOut layer\n",
    "        \"\"\"\n",
    "        config = super().get_config()\n",
    "        config.update({\n",
    "            \"num_factor\":self.num_factor\n",
    "        })\n",
    "        return config\n",
    "\n",
    "# register MaxOut Layer\n",
    "get_custom_objects().update({\"MaxOut\":MaxOut})    "
   ]
  },
  {
   "cell_type": "markdown",
   "metadata": {
    "colab_type": "text",
    "id": "OEy0AJIpZrj1"
   },
   "source": [
    "### Test Maxout's operation"
   ]
  },
  {
   "cell_type": "code",
   "execution_count": 3,
   "metadata": {
    "colab": {},
    "colab_type": "code",
    "id": "wYcq5dQWZrj2"
   },
   "outputs": [],
   "source": [
    "inputs = tf.constant([[1, 2, 3, 4, 5, 6]], tf.float32)"
   ]
  },
  {
   "cell_type": "code",
   "execution_count": 4,
   "metadata": {
    "colab": {
     "base_uri": "https://localhost:8080/",
     "height": 51
    },
    "colab_type": "code",
    "id": "9CtxIwH1Zrj4",
    "outputId": "cfb16dd1-2c0f-4ed1-b103-2af0197068f1"
   },
   "outputs": [
    {
     "name": "stdout",
     "output_type": "stream",
     "text": [
      "num factor= 2\n",
      "-> result :  [[2. 4. 6.]]\n"
     ]
    }
   ],
   "source": [
    "num_factor = 2\n",
    "\n",
    "outputs = MaxOut(num_factor)(inputs).numpy()\n",
    "print(\"num factor=\",num_factor)\n",
    "print(\"-> result : \", outputs)"
   ]
  },
  {
   "cell_type": "code",
   "execution_count": 5,
   "metadata": {
    "colab": {
     "base_uri": "https://localhost:8080/",
     "height": 51
    },
    "colab_type": "code",
    "id": "nXuEk3aRZrj7",
    "outputId": "da79d5b5-c5aa-4906-e7e4-366eef748406"
   },
   "outputs": [
    {
     "name": "stdout",
     "output_type": "stream",
     "text": [
      "num factor= 3\n",
      "-> result :  [[3. 6.]]\n"
     ]
    }
   ],
   "source": [
    "num_factor = 3\n",
    "\n",
    "outputs = MaxOut(num_factor)(inputs).numpy()\n",
    "print(\"num factor=\",num_factor)\n",
    "print(\"-> result : \", outputs)"
   ]
  },
  {
   "cell_type": "code",
   "execution_count": 6,
   "metadata": {
    "colab": {
     "base_uri": "https://localhost:8080/",
     "height": 409
    },
    "colab_type": "code",
    "id": "os99i50fZrj-",
    "outputId": "72c2c993-2050-490c-8cc9-22ee369fb344"
   },
   "outputs": [
    {
     "ename": "ValueError",
     "evalue": "ignored",
     "output_type": "error",
     "traceback": [
      "\u001b[0;31m---------------------------------------------------------------------------\u001b[0m",
      "\u001b[0;31mValueError\u001b[0m                                Traceback (most recent call last)",
      "\u001b[0;32m<ipython-input-6-10680c2b3302>\u001b[0m in \u001b[0;36m<module>\u001b[0;34m()\u001b[0m\n\u001b[1;32m      1\u001b[0m \u001b[0mnum_factor\u001b[0m \u001b[0;34m=\u001b[0m \u001b[0;36m4\u001b[0m\u001b[0;34m\u001b[0m\u001b[0;34m\u001b[0m\u001b[0m\n\u001b[1;32m      2\u001b[0m \u001b[0;34m\u001b[0m\u001b[0m\n\u001b[0;32m----> 3\u001b[0;31m \u001b[0moutputs\u001b[0m \u001b[0;34m=\u001b[0m \u001b[0mMaxOut\u001b[0m\u001b[0;34m(\u001b[0m\u001b[0mnum_factor\u001b[0m\u001b[0;34m)\u001b[0m\u001b[0;34m(\u001b[0m\u001b[0minputs\u001b[0m\u001b[0;34m)\u001b[0m\u001b[0;34m.\u001b[0m\u001b[0mnumpy\u001b[0m\u001b[0;34m(\u001b[0m\u001b[0;34m)\u001b[0m\u001b[0;34m\u001b[0m\u001b[0;34m\u001b[0m\u001b[0m\n\u001b[0m\u001b[1;32m      4\u001b[0m \u001b[0mprint\u001b[0m\u001b[0;34m(\u001b[0m\u001b[0;34m\"num factor=\"\u001b[0m\u001b[0;34m,\u001b[0m\u001b[0mnum_factor\u001b[0m\u001b[0;34m)\u001b[0m\u001b[0;34m\u001b[0m\u001b[0;34m\u001b[0m\u001b[0m\n\u001b[1;32m      5\u001b[0m \u001b[0mprint\u001b[0m\u001b[0;34m(\u001b[0m\u001b[0;34m\"-> result : \"\u001b[0m\u001b[0;34m,\u001b[0m \u001b[0moutputs\u001b[0m\u001b[0;34m)\u001b[0m\u001b[0;34m\u001b[0m\u001b[0;34m\u001b[0m\u001b[0m\n",
      "\u001b[0;32m/usr/local/lib/python3.6/dist-packages/tensorflow/python/keras/engine/base_layer.py\u001b[0m in \u001b[0;36m__call__\u001b[0;34m(self, *args, **kwargs)\u001b[0m\n\u001b[1;32m    962\u001b[0m         \u001b[0;31m# Eager execution on data tensors.\u001b[0m\u001b[0;34m\u001b[0m\u001b[0;34m\u001b[0m\u001b[0;34m\u001b[0m\u001b[0m\n\u001b[1;32m    963\u001b[0m         \u001b[0;32mwith\u001b[0m \u001b[0mbackend\u001b[0m\u001b[0;34m.\u001b[0m\u001b[0mname_scope\u001b[0m\u001b[0;34m(\u001b[0m\u001b[0mself\u001b[0m\u001b[0;34m.\u001b[0m\u001b[0m_name_scope\u001b[0m\u001b[0;34m(\u001b[0m\u001b[0;34m)\u001b[0m\u001b[0;34m)\u001b[0m\u001b[0;34m:\u001b[0m\u001b[0;34m\u001b[0m\u001b[0;34m\u001b[0m\u001b[0m\n\u001b[0;32m--> 964\u001b[0;31m           \u001b[0mself\u001b[0m\u001b[0;34m.\u001b[0m\u001b[0m_maybe_build\u001b[0m\u001b[0;34m(\u001b[0m\u001b[0minputs\u001b[0m\u001b[0;34m)\u001b[0m\u001b[0;34m\u001b[0m\u001b[0;34m\u001b[0m\u001b[0m\n\u001b[0m\u001b[1;32m    965\u001b[0m           \u001b[0mcast_inputs\u001b[0m \u001b[0;34m=\u001b[0m \u001b[0mself\u001b[0m\u001b[0;34m.\u001b[0m\u001b[0m_maybe_cast_inputs\u001b[0m\u001b[0;34m(\u001b[0m\u001b[0minputs\u001b[0m\u001b[0;34m)\u001b[0m\u001b[0;34m\u001b[0m\u001b[0;34m\u001b[0m\u001b[0m\n\u001b[1;32m    966\u001b[0m           with base_layer_utils.autocast_context_manager(\n",
      "\u001b[0;32m/usr/local/lib/python3.6/dist-packages/tensorflow/python/keras/engine/base_layer.py\u001b[0m in \u001b[0;36m_maybe_build\u001b[0;34m(self, inputs)\u001b[0m\n\u001b[1;32m   2414\u001b[0m         \u001b[0;31m# operations.\u001b[0m\u001b[0;34m\u001b[0m\u001b[0;34m\u001b[0m\u001b[0;34m\u001b[0m\u001b[0m\n\u001b[1;32m   2415\u001b[0m         \u001b[0;32mwith\u001b[0m \u001b[0mtf_utils\u001b[0m\u001b[0;34m.\u001b[0m\u001b[0mmaybe_init_scope\u001b[0m\u001b[0;34m(\u001b[0m\u001b[0mself\u001b[0m\u001b[0;34m)\u001b[0m\u001b[0;34m:\u001b[0m\u001b[0;34m\u001b[0m\u001b[0;34m\u001b[0m\u001b[0m\n\u001b[0;32m-> 2416\u001b[0;31m           \u001b[0mself\u001b[0m\u001b[0;34m.\u001b[0m\u001b[0mbuild\u001b[0m\u001b[0;34m(\u001b[0m\u001b[0minput_shapes\u001b[0m\u001b[0;34m)\u001b[0m  \u001b[0;31m# pylint:disable=not-callable\u001b[0m\u001b[0;34m\u001b[0m\u001b[0;34m\u001b[0m\u001b[0m\n\u001b[0m\u001b[1;32m   2417\u001b[0m       \u001b[0;31m# We must set also ensure that the layer is marked as built, and the build\u001b[0m\u001b[0;34m\u001b[0m\u001b[0;34m\u001b[0m\u001b[0;34m\u001b[0m\u001b[0m\n\u001b[1;32m   2418\u001b[0m       \u001b[0;31m# shape is stored since user defined build functions may not be calling\u001b[0m\u001b[0;34m\u001b[0m\u001b[0;34m\u001b[0m\u001b[0;34m\u001b[0m\u001b[0m\n",
      "\u001b[0;32m<ipython-input-2-614ae75d6487>\u001b[0m in \u001b[0;36mbuild\u001b[0;34m(self, input_shape)\u001b[0m\n\u001b[1;32m     18\u001b[0m         \u001b[0;32mif\u001b[0m \u001b[0minput_shape\u001b[0m\u001b[0;34m[\u001b[0m\u001b[0;34m-\u001b[0m\u001b[0;36m1\u001b[0m\u001b[0;34m]\u001b[0m \u001b[0;34m%\u001b[0m \u001b[0mself\u001b[0m\u001b[0;34m.\u001b[0m\u001b[0mnum_factor\u001b[0m \u001b[0;34m!=\u001b[0m \u001b[0;36m0\u001b[0m\u001b[0;34m:\u001b[0m\u001b[0;34m\u001b[0m\u001b[0;34m\u001b[0m\u001b[0m\n\u001b[1;32m     19\u001b[0m             raise ValueError(\n\u001b[0;32m---> 20\u001b[0;31m                 \u001b[0;34mf\"the number of features on the last axis \"\u001b[0m\u001b[0;34m\u001b[0m\u001b[0;34m\u001b[0m\u001b[0m\n\u001b[0m\u001b[1;32m     21\u001b[0m                 \u001b[0;34mf\"should be a multiple of num_factor.\\n\"\u001b[0m\u001b[0;34m\u001b[0m\u001b[0;34m\u001b[0m\u001b[0m\n\u001b[1;32m     22\u001b[0m                 \u001b[0;34mf\"* input shape : {input_shape}\\n\"\u001b[0m\u001b[0;34m\u001b[0m\u001b[0;34m\u001b[0m\u001b[0m\n",
      "\u001b[0;31mValueError\u001b[0m: the number of features on the last axis should be a multiple of num_factor.\n* input shape : (1, 6)\n* num factor : 4\n"
     ]
    }
   ],
   "source": [
    "num_factor = 4\n",
    "\n",
    "outputs = MaxOut(num_factor)(inputs).numpy()\n",
    "print(\"num factor=\",num_factor)\n",
    "print(\"-> result : \", outputs)"
   ]
  },
  {
   "cell_type": "markdown",
   "metadata": {
    "colab_type": "text",
    "id": "oNoFftIhZrkB"
   },
   "source": [
    "## Maxout Network for Fashion-MNIST\n",
    "---"
   ]
  },
  {
   "cell_type": "markdown",
   "metadata": {
    "colab_type": "text",
    "id": "xraadPhDZrkC"
   },
   "source": [
    "### Load Data"
   ]
  },
  {
   "cell_type": "code",
   "execution_count": 7,
   "metadata": {
    "colab": {
     "base_uri": "https://localhost:8080/",
     "height": 173
    },
    "colab_type": "code",
    "id": "6l-llorhZrkC",
    "outputId": "76e79f5f-71ff-4ee1-8d8d-7400c5c1f59a"
   },
   "outputs": [
    {
     "name": "stdout",
     "output_type": "stream",
     "text": [
      "Downloading data from https://storage.googleapis.com/tensorflow/tf-keras-datasets/train-labels-idx1-ubyte.gz\n",
      "32768/29515 [=================================] - 0s 0us/step\n",
      "Downloading data from https://storage.googleapis.com/tensorflow/tf-keras-datasets/train-images-idx3-ubyte.gz\n",
      "26427392/26421880 [==============================] - 0s 0us/step\n",
      "Downloading data from https://storage.googleapis.com/tensorflow/tf-keras-datasets/t10k-labels-idx1-ubyte.gz\n",
      "8192/5148 [===============================================] - 0s 0us/step\n",
      "Downloading data from https://storage.googleapis.com/tensorflow/tf-keras-datasets/t10k-images-idx3-ubyte.gz\n",
      "4423680/4422102 [==============================] - 0s 0us/step\n"
     ]
    }
   ],
   "source": [
    "from tensorflow.keras.datasets import fashion_mnist\n",
    "\n",
    "train, test = fashion_mnist.load_data()\n",
    "\n",
    "train_X, train_y = train\n",
    "train_X = train_X / 255.\n",
    "train_X = train_X[..., None]\n",
    "\n",
    "test_X, test_y = test\n",
    "test_X = test_X / 255.\n",
    "test_X = test_X[..., None]"
   ]
  },
  {
   "cell_type": "markdown",
   "metadata": {
    "colab_type": "text",
    "id": "g1HXYFXsZrkF"
   },
   "source": [
    "### build Model"
   ]
  },
  {
   "cell_type": "code",
   "execution_count": 14,
   "metadata": {
    "colab": {},
    "colab_type": "code",
    "id": "5tmpZTOqZrkF"
   },
   "outputs": [],
   "source": [
    "from tensorflow.keras.layers import Input\n",
    "from tensorflow.keras.layers import Conv2D, Dropout\n",
    "from tensorflow.keras.layers import Dense, MaxPool2D\n",
    "from tensorflow.keras.layers import Flatten\n",
    "from tensorflow.keras.models import Model\n",
    "\n",
    "inputs = Input((28,28, 1))\n",
    "\n",
    "# 4 blocks of (Conv - Maxout- Dropout)\n",
    "\n",
    "# Block 1\n",
    "hidden = Conv2D(32, (3,3))(inputs)\n",
    "hidden = MaxOut(2)(hidden)\n",
    "hidden = Dropout(0.3)(hidden)\n",
    "\n",
    "# Block 2 with Maxpool\n",
    "hidden = Conv2D(32, (3,3))(hidden)\n",
    "hidden = MaxOut(2)(hidden)\n",
    "hidden = Dropout(0.3)(hidden)\n",
    "hidden = MaxPool2D((2,2))(hidden)\n",
    "\n",
    "# Block 3\n",
    "hidden = Conv2D(64, (3,3))(hidden)\n",
    "hidden = MaxOut(2)(hidden)\n",
    "hidden = Dropout(0.3)(hidden)\n",
    "\n",
    "# Block 4 with Maxpool\n",
    "hidden = Conv2D(64, (3,3))(hidden)\n",
    "hidden = MaxOut(2)(hidden)\n",
    "hidden = Dropout(0.3)(hidden)\n",
    "hidden = MaxPool2D((2,2))(hidden)\n",
    "\n",
    "flat = Flatten()(hidden)\n",
    "fc = Dense(40)(flat)\n",
    "fc = MaxOut(2)(fc)\n",
    "outputs = Dense(10)(fc)\n",
    "\n",
    "model = Model(inputs, outputs)"
   ]
  },
  {
   "cell_type": "markdown",
   "metadata": {
    "colab_type": "text",
    "id": "h8nWb6geZrkI"
   },
   "source": [
    "### Compile Model"
   ]
  },
  {
   "cell_type": "code",
   "execution_count": 15,
   "metadata": {
    "colab": {},
    "colab_type": "code",
    "id": "WHNvUDATZrkI"
   },
   "outputs": [],
   "source": [
    "from tensorflow.keras.losses import SparseCategoricalCrossentropy\n",
    "from tensorflow.keras.optimizers import Adam\n",
    "from tensorflow.keras.metrics import SparseCategoricalAccuracy\n",
    "\n",
    "model.compile(optimizer=Adam(1e-3), \n",
    "              loss=SparseCategoricalCrossentropy(from_logits=True),\n",
    "              metrics=[SparseCategoricalAccuracy()])"
   ]
  },
  {
   "cell_type": "markdown",
   "metadata": {
    "colab_type": "text",
    "id": "NHD9pil7ZrkK"
   },
   "source": [
    "### Train Model"
   ]
  },
  {
   "cell_type": "code",
   "execution_count": 16,
   "metadata": {
    "colab": {
     "base_uri": "https://localhost:8080/",
     "height": 734
    },
    "colab_type": "code",
    "id": "IlVnFSkVZrkK",
    "outputId": "234924ea-f2fc-4987-fa3a-b745da6509d4"
   },
   "outputs": [
    {
     "name": "stdout",
     "output_type": "stream",
     "text": [
      "Epoch 1/20\n",
      "211/211 [==============================] - 4s 19ms/step - loss: 0.8006 - sparse_categorical_accuracy: 0.7061 - val_loss: 0.5660 - val_sparse_categorical_accuracy: 0.8117\n",
      "Epoch 2/20\n",
      "211/211 [==============================] - 4s 17ms/step - loss: 0.4853 - sparse_categorical_accuracy: 0.8188 - val_loss: 0.4653 - val_sparse_categorical_accuracy: 0.8452\n",
      "Epoch 3/20\n",
      "211/211 [==============================] - 4s 17ms/step - loss: 0.4094 - sparse_categorical_accuracy: 0.8506 - val_loss: 0.4009 - val_sparse_categorical_accuracy: 0.8705\n",
      "Epoch 4/20\n",
      "211/211 [==============================] - 4s 17ms/step - loss: 0.3688 - sparse_categorical_accuracy: 0.8668 - val_loss: 0.3830 - val_sparse_categorical_accuracy: 0.8813\n",
      "Epoch 5/20\n",
      "211/211 [==============================] - 4s 17ms/step - loss: 0.3432 - sparse_categorical_accuracy: 0.8747 - val_loss: 0.3429 - val_sparse_categorical_accuracy: 0.8913\n",
      "Epoch 6/20\n",
      "211/211 [==============================] - 4s 18ms/step - loss: 0.3234 - sparse_categorical_accuracy: 0.8839 - val_loss: 0.3359 - val_sparse_categorical_accuracy: 0.8917\n",
      "Epoch 7/20\n",
      "211/211 [==============================] - 4s 18ms/step - loss: 0.3116 - sparse_categorical_accuracy: 0.8886 - val_loss: 0.3192 - val_sparse_categorical_accuracy: 0.8967\n",
      "Epoch 8/20\n",
      "211/211 [==============================] - 4s 17ms/step - loss: 0.2998 - sparse_categorical_accuracy: 0.8902 - val_loss: 0.3104 - val_sparse_categorical_accuracy: 0.9023\n",
      "Epoch 9/20\n",
      "211/211 [==============================] - 4s 18ms/step - loss: 0.2881 - sparse_categorical_accuracy: 0.8952 - val_loss: 0.3156 - val_sparse_categorical_accuracy: 0.8960\n",
      "Epoch 10/20\n",
      "211/211 [==============================] - 4s 18ms/step - loss: 0.2809 - sparse_categorical_accuracy: 0.8982 - val_loss: 0.2872 - val_sparse_categorical_accuracy: 0.9035\n",
      "Epoch 11/20\n",
      "211/211 [==============================] - 4s 17ms/step - loss: 0.2716 - sparse_categorical_accuracy: 0.9013 - val_loss: 0.2951 - val_sparse_categorical_accuracy: 0.9043\n",
      "Epoch 12/20\n",
      "211/211 [==============================] - 4s 18ms/step - loss: 0.2700 - sparse_categorical_accuracy: 0.9017 - val_loss: 0.2828 - val_sparse_categorical_accuracy: 0.9057\n",
      "Epoch 13/20\n",
      "211/211 [==============================] - 4s 18ms/step - loss: 0.2616 - sparse_categorical_accuracy: 0.9041 - val_loss: 0.2948 - val_sparse_categorical_accuracy: 0.8987\n",
      "Epoch 14/20\n",
      "211/211 [==============================] - 4s 17ms/step - loss: 0.2589 - sparse_categorical_accuracy: 0.9049 - val_loss: 0.2936 - val_sparse_categorical_accuracy: 0.8987\n",
      "Epoch 15/20\n",
      "211/211 [==============================] - 4s 17ms/step - loss: 0.2531 - sparse_categorical_accuracy: 0.9078 - val_loss: 0.2592 - val_sparse_categorical_accuracy: 0.9095\n",
      "Epoch 16/20\n",
      "211/211 [==============================] - 4s 18ms/step - loss: 0.2494 - sparse_categorical_accuracy: 0.9084 - val_loss: 0.2773 - val_sparse_categorical_accuracy: 0.9075\n",
      "Epoch 17/20\n",
      "211/211 [==============================] - 4s 17ms/step - loss: 0.2443 - sparse_categorical_accuracy: 0.9101 - val_loss: 0.2517 - val_sparse_categorical_accuracy: 0.9178\n",
      "Epoch 18/20\n",
      "211/211 [==============================] - 4s 17ms/step - loss: 0.2420 - sparse_categorical_accuracy: 0.9094 - val_loss: 0.2561 - val_sparse_categorical_accuracy: 0.9102\n",
      "Epoch 19/20\n",
      "211/211 [==============================] - 4s 18ms/step - loss: 0.2353 - sparse_categorical_accuracy: 0.9135 - val_loss: 0.2709 - val_sparse_categorical_accuracy: 0.9057\n",
      "Epoch 20/20\n",
      "211/211 [==============================] - 4s 18ms/step - loss: 0.2350 - sparse_categorical_accuracy: 0.9136 - val_loss: 0.2491 - val_sparse_categorical_accuracy: 0.9140\n"
     ]
    },
    {
     "data": {
      "text/plain": [
       "<tensorflow.python.keras.callbacks.History at 0x7fb778708c88>"
      ]
     },
     "execution_count": 16,
     "metadata": {
      "tags": []
     },
     "output_type": "execute_result"
    }
   ],
   "source": [
    "model.fit(x=train_X, y=train_y, \n",
    "          batch_size=256, epochs=20, \n",
    "          validation_split=0.1,)"
   ]
  },
  {
   "cell_type": "markdown",
   "metadata": {
    "colab_type": "text",
    "id": "jYbs5GLfZrkO"
   },
   "source": [
    "### Evaluate Model"
   ]
  },
  {
   "cell_type": "code",
   "execution_count": 18,
   "metadata": {
    "colab": {
     "base_uri": "https://localhost:8080/",
     "height": 71
    },
    "colab_type": "code",
    "id": "Nloac3XdZrkO",
    "outputId": "84da6386-161a-439e-dfa9-1682a0d92ced"
   },
   "outputs": [
    {
     "name": "stdout",
     "output_type": "stream",
     "text": [
      "313/313 [==============================] - 1s 3ms/step - loss: 0.2597 - sparse_categorical_accuracy: 0.9133\n"
     ]
    },
    {
     "data": {
      "text/plain": [
       "[0.2596690058708191, 0.9132999777793884]"
      ]
     },
     "execution_count": 18,
     "metadata": {
      "tags": []
     },
     "output_type": "execute_result"
    }
   ],
   "source": [
    "model.evaluate(test_X, test_y)"
   ]
  }
 ],
 "metadata": {
  "accelerator": "GPU",
  "colab": {
   "machine_shape": "hm",
   "name": "Maxout Neural Network.ipynb",
   "provenance": []
  },
  "kernelspec": {
   "display_name": "Python 3",
   "language": "python",
   "name": "python3"
  },
  "language_info": {
   "codemirror_mode": {
    "name": "ipython",
    "version": 3
   },
   "file_extension": ".py",
   "mimetype": "text/x-python",
   "name": "python",
   "nbconvert_exporter": "python",
   "pygments_lexer": "ipython3",
   "version": "3.6.8"
  },
  "toc": {
   "base_numbering": 1,
   "nav_menu": {},
   "number_sections": false,
   "sideBar": true,
   "skip_h1_title": false,
   "title_cell": "Table of Contents",
   "title_sidebar": "Contents",
   "toc_cell": false,
   "toc_position": {},
   "toc_section_display": true,
   "toc_window_display": false
  },
  "varInspector": {
   "cols": {
    "lenName": 16,
    "lenType": 16,
    "lenVar": 40
   },
   "kernels_config": {
    "python": {
     "delete_cmd_postfix": "",
     "delete_cmd_prefix": "del ",
     "library": "var_list.py",
     "varRefreshCmd": "print(var_dic_list())"
    },
    "r": {
     "delete_cmd_postfix": ") ",
     "delete_cmd_prefix": "rm(",
     "library": "var_list.r",
     "varRefreshCmd": "cat(var_dic_list()) "
    }
   },
   "types_to_exclude": [
    "module",
    "function",
    "builtin_function_or_method",
    "instance",
    "_Feature"
   ],
   "window_display": false
  }
 },
 "nbformat": 4,
 "nbformat_minor": 1
}
