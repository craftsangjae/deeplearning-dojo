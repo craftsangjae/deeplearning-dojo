{
 "cells": [
  {
   "cell_type": "markdown",
   "metadata": {},
   "source": [
    "## Objective\n",
    "\n",
    "\n",
    "In many Kaggle competitions or machine learning examples, data with categorical variables is usually solved by a model of the Decision Tree model. However, deep learning can handle categorical variables as effectively as Decision Tree.\n",
    "\n",
    "![](https://imgur.com/RTV6hAo.png)"
   ]
  },
  {
   "cell_type": "markdown",
   "metadata": {},
   "source": [
    "### Load Packages"
   ]
  },
  {
   "cell_type": "code",
   "execution_count": 2,
   "metadata": {},
   "outputs": [],
   "source": [
    "import numpy as np\n",
    "import pandas as pd\n",
    "import tensorflow as tf\n",
    "from tensorflow.keras.utils import get_file\n",
    "\n",
    "np.set_printoptions(precision=3)"
   ]
  },
  {
   "cell_type": "markdown",
   "metadata": {},
   "source": [
    "### Load Data\n",
    "\n",
    "reference : [ucl - bank marketing data set](https://archive.ics.uci.edu/ml/datasets/Bank%2BMarketing)"
   ]
  },
  {
   "cell_type": "code",
   "execution_count": 5,
   "metadata": {},
   "outputs": [],
   "source": [
    "URL = \"https://docs.google.com/uc?id=16Z2Jyg9BPB8kLeuGDRNLpXZdF77W32_p\"\n",
    "\n",
    "fpath = get_file(\"bank-full.csv\", URL)\n",
    "df = pd.read_csv(fpath, sep=';')"
   ]
  },
  {
   "cell_type": "markdown",
   "metadata": {},
   "source": [
    "## Data EDA"
   ]
  },
  {
   "cell_type": "markdown",
   "metadata": {},
   "source": [
    "### Profile Data\n",
    "\n",
    "* **Categorical inputs**\n",
    "> job, marital, education, default, housing, loan, contact, month, poutcome\n",
    "* **Numeric inputs**\n",
    "> age, balance, day, duration, campaign, pdays, previous"
   ]
  },
  {
   "cell_type": "code",
   "execution_count": 6,
   "metadata": {},
   "outputs": [
    {
     "name": "stdout",
     "output_type": "stream",
     "text": [
      "데이터의 크기 : (45211, 17)\n"
     ]
    },
    {
     "data": {
      "text/html": [
       "<div>\n",
       "<style scoped>\n",
       "    .dataframe tbody tr th:only-of-type {\n",
       "        vertical-align: middle;\n",
       "    }\n",
       "\n",
       "    .dataframe tbody tr th {\n",
       "        vertical-align: top;\n",
       "    }\n",
       "\n",
       "    .dataframe thead th {\n",
       "        text-align: right;\n",
       "    }\n",
       "</style>\n",
       "<table border=\"1\" class=\"dataframe\">\n",
       "  <thead>\n",
       "    <tr style=\"text-align: right;\">\n",
       "      <th></th>\n",
       "      <th>age</th>\n",
       "      <th>job</th>\n",
       "      <th>marital</th>\n",
       "      <th>education</th>\n",
       "      <th>default</th>\n",
       "      <th>balance</th>\n",
       "      <th>housing</th>\n",
       "      <th>loan</th>\n",
       "      <th>contact</th>\n",
       "      <th>day</th>\n",
       "      <th>month</th>\n",
       "      <th>duration</th>\n",
       "      <th>campaign</th>\n",
       "      <th>pdays</th>\n",
       "      <th>previous</th>\n",
       "      <th>poutcome</th>\n",
       "      <th>y</th>\n",
       "    </tr>\n",
       "  </thead>\n",
       "  <tbody>\n",
       "    <tr>\n",
       "      <th>0</th>\n",
       "      <td>58</td>\n",
       "      <td>management</td>\n",
       "      <td>married</td>\n",
       "      <td>tertiary</td>\n",
       "      <td>no</td>\n",
       "      <td>2143</td>\n",
       "      <td>yes</td>\n",
       "      <td>no</td>\n",
       "      <td>unknown</td>\n",
       "      <td>5</td>\n",
       "      <td>may</td>\n",
       "      <td>261</td>\n",
       "      <td>1</td>\n",
       "      <td>-1</td>\n",
       "      <td>0</td>\n",
       "      <td>unknown</td>\n",
       "      <td>no</td>\n",
       "    </tr>\n",
       "    <tr>\n",
       "      <th>1</th>\n",
       "      <td>44</td>\n",
       "      <td>technician</td>\n",
       "      <td>single</td>\n",
       "      <td>secondary</td>\n",
       "      <td>no</td>\n",
       "      <td>29</td>\n",
       "      <td>yes</td>\n",
       "      <td>no</td>\n",
       "      <td>unknown</td>\n",
       "      <td>5</td>\n",
       "      <td>may</td>\n",
       "      <td>151</td>\n",
       "      <td>1</td>\n",
       "      <td>-1</td>\n",
       "      <td>0</td>\n",
       "      <td>unknown</td>\n",
       "      <td>no</td>\n",
       "    </tr>\n",
       "    <tr>\n",
       "      <th>2</th>\n",
       "      <td>33</td>\n",
       "      <td>entrepreneur</td>\n",
       "      <td>married</td>\n",
       "      <td>secondary</td>\n",
       "      <td>no</td>\n",
       "      <td>2</td>\n",
       "      <td>yes</td>\n",
       "      <td>yes</td>\n",
       "      <td>unknown</td>\n",
       "      <td>5</td>\n",
       "      <td>may</td>\n",
       "      <td>76</td>\n",
       "      <td>1</td>\n",
       "      <td>-1</td>\n",
       "      <td>0</td>\n",
       "      <td>unknown</td>\n",
       "      <td>no</td>\n",
       "    </tr>\n",
       "    <tr>\n",
       "      <th>3</th>\n",
       "      <td>47</td>\n",
       "      <td>blue-collar</td>\n",
       "      <td>married</td>\n",
       "      <td>unknown</td>\n",
       "      <td>no</td>\n",
       "      <td>1506</td>\n",
       "      <td>yes</td>\n",
       "      <td>no</td>\n",
       "      <td>unknown</td>\n",
       "      <td>5</td>\n",
       "      <td>may</td>\n",
       "      <td>92</td>\n",
       "      <td>1</td>\n",
       "      <td>-1</td>\n",
       "      <td>0</td>\n",
       "      <td>unknown</td>\n",
       "      <td>no</td>\n",
       "    </tr>\n",
       "    <tr>\n",
       "      <th>4</th>\n",
       "      <td>33</td>\n",
       "      <td>unknown</td>\n",
       "      <td>single</td>\n",
       "      <td>unknown</td>\n",
       "      <td>no</td>\n",
       "      <td>1</td>\n",
       "      <td>no</td>\n",
       "      <td>no</td>\n",
       "      <td>unknown</td>\n",
       "      <td>5</td>\n",
       "      <td>may</td>\n",
       "      <td>198</td>\n",
       "      <td>1</td>\n",
       "      <td>-1</td>\n",
       "      <td>0</td>\n",
       "      <td>unknown</td>\n",
       "      <td>no</td>\n",
       "    </tr>\n",
       "  </tbody>\n",
       "</table>\n",
       "</div>"
      ],
      "text/plain": [
       "   age           job  marital  education default  balance housing loan  \\\n",
       "0   58    management  married   tertiary      no     2143     yes   no   \n",
       "1   44    technician   single  secondary      no       29     yes   no   \n",
       "2   33  entrepreneur  married  secondary      no        2     yes  yes   \n",
       "3   47   blue-collar  married    unknown      no     1506     yes   no   \n",
       "4   33       unknown   single    unknown      no        1      no   no   \n",
       "\n",
       "   contact  day month  duration  campaign  pdays  previous poutcome   y  \n",
       "0  unknown    5   may       261         1     -1         0  unknown  no  \n",
       "1  unknown    5   may       151         1     -1         0  unknown  no  \n",
       "2  unknown    5   may        76         1     -1         0  unknown  no  \n",
       "3  unknown    5   may        92         1     -1         0  unknown  no  \n",
       "4  unknown    5   may       198         1     -1         0  unknown  no  "
      ]
     },
     "execution_count": 6,
     "metadata": {},
     "output_type": "execute_result"
    }
   ],
   "source": [
    "print(f\"데이터의 크기 : {df.shape}\")\n",
    "df.head()"
   ]
  },
  {
   "cell_type": "code",
   "execution_count": 8,
   "metadata": {},
   "outputs": [
    {
     "name": "stdout",
     "output_type": "stream",
     "text": [
      "marital: ['divorced' 'married' 'single']\n",
      "\n",
      "job: ['admin.' 'blue-collar' 'entrepreneur' 'housemaid' 'management' 'retired'\n",
      " 'self-employed' 'services' 'student' 'technician' 'unemployed' 'unknown']\n",
      "\n",
      "contact: ['cellular' 'telephone' 'unknown']\n",
      "\n",
      "education: ['primary' 'secondary' 'tertiary' 'unknown']\n",
      "\n",
      "month: ['apr' 'aug' 'dec' 'feb' 'jan' 'jul' 'jun' 'mar' 'may' 'nov' 'oct' 'sep']\n",
      "\n",
      "poutcome: ['failure' 'other' 'success' 'unknown']\n",
      "\n",
      "housing: ['no' 'yes']\n",
      "\n",
      "loan: ['no' 'yes']\n",
      "\n",
      "default: ['no' 'yes']\n",
      "\n"
     ]
    }
   ],
   "source": [
    "# value list for each category\n",
    "cat_col_names = [\"marital\", 'job', 'contact',\n",
    "                 'education', 'month', \"poutcome\",\n",
    "                 \"housing\", \"loan\", 'default']\n",
    "\n",
    "for col_name in cat_col_names:\n",
    "    cat_values = np.unique(df[col_name])\n",
    "    print(f\"{col_name}: {cat_values}\\n\")"
   ]
  },
  {
   "cell_type": "code",
   "execution_count": 10,
   "metadata": {},
   "outputs": [
    {
     "name": "stdout",
     "output_type": "stream",
     "text": [
      "age: (18,95)\n",
      "\n",
      "balance: (-8019,102127)\n",
      "\n",
      "day: (1,31)\n",
      "\n",
      "duration: (0,4918)\n",
      "\n",
      "campaign: (1,63)\n",
      "\n",
      "pdays: (-1,871)\n",
      "\n",
      "previous: (0,275)\n",
      "\n"
     ]
    }
   ],
   "source": [
    "# value rang for each numeric input\n",
    "num_col_names = ['age', 'balance', 'day', 'duration',\n",
    "                 'campaign','pdays', 'previous']\n",
    "\n",
    "for col_name in num_col_names:\n",
    "    print(f\"{col_name}: ({df[col_name].min()},{df[col_name].max()})\\n\")"
   ]
  },
  {
   "cell_type": "markdown",
   "metadata": {},
   "source": [
    "### Transform(preprocess) Data"
   ]
  },
  {
   "cell_type": "markdown",
   "metadata": {},
   "source": [
    "#### - Transform categorical data"
   ]
  },
  {
   "cell_type": "code",
   "execution_count": 12,
   "metadata": {},
   "outputs": [
    {
     "data": {
      "text/plain": [
       "array([[1, 4, 2, ..., 1, 0, 0],\n",
       "       [2, 9, 2, ..., 1, 0, 0],\n",
       "       [1, 2, 2, ..., 1, 1, 0],\n",
       "       ...,\n",
       "       [1, 5, 0, ..., 0, 0, 0],\n",
       "       [1, 1, 1, ..., 0, 0, 0],\n",
       "       [1, 2, 0, ..., 0, 0, 0]])"
      ]
     },
     "execution_count": 12,
     "metadata": {},
     "output_type": "execute_result"
    }
   ],
   "source": [
    "from sklearn.preprocessing import LabelEncoder\n",
    "\n",
    "category_xs = []\n",
    "category_encoders = []\n",
    "for col_name in cat_col_names:\n",
    "    encoder = LabelEncoder()\n",
    "    encoded_xs = encoder.fit_transform(df[col_name])\n",
    "\n",
    "    category_xs.append(encoded_xs)\n",
    "    category_encoders.append(encoder)\n",
    "\n",
    "category_xs = np.stack(category_xs, axis=1) \n",
    "category_xs"
   ]
  },
  {
   "cell_type": "markdown",
   "metadata": {},
   "source": [
    "#### - Transform numeric data"
   ]
  },
  {
   "cell_type": "code",
   "execution_count": 13,
   "metadata": {},
   "outputs": [
    {
     "data": {
      "text/plain": [
       "array([[ 1.607,  0.256, -1.298, ..., -0.569, -0.411, -0.252],\n",
       "       [ 0.289, -0.438, -1.298, ..., -0.569, -0.411, -0.252],\n",
       "       [-0.747, -0.447, -1.298, ..., -0.569, -0.411, -0.252],\n",
       "       ...,\n",
       "       [ 2.925,  1.43 ,  0.143, ...,  0.722,  1.436,  1.05 ],\n",
       "       [ 1.513, -0.228,  0.143, ...,  0.399, -0.411, -0.252],\n",
       "       [-0.371,  0.528,  0.143, ..., -0.247,  1.476,  4.524]])"
      ]
     },
     "execution_count": 13,
     "metadata": {},
     "output_type": "execute_result"
    }
   ],
   "source": [
    "from sklearn.preprocessing import StandardScaler\n",
    "\n",
    "numeric_encoder = StandardScaler()\n",
    "numeric_xs = numeric_encoder.fit_transform(df[num_col_names])\n",
    "numeric_xs"
   ]
  },
  {
   "cell_type": "markdown",
   "metadata": {},
   "source": [
    "####  - Transform Label($y$)"
   ]
  },
  {
   "cell_type": "code",
   "execution_count": 14,
   "metadata": {},
   "outputs": [
    {
     "data": {
      "text/plain": [
       "array([False, False, False, ...,  True, False, False])"
      ]
     },
     "execution_count": 14,
     "metadata": {},
     "output_type": "execute_result"
    }
   ],
   "source": [
    "ys = df.y.map({'yes':True,'no':False}).values\n",
    "ys"
   ]
  },
  {
   "cell_type": "markdown",
   "metadata": {},
   "source": [
    "### Split Train & Test Data"
   ]
  },
  {
   "cell_type": "code",
   "execution_count": 15,
   "metadata": {},
   "outputs": [],
   "source": [
    "from sklearn.model_selection import train_test_split\n",
    "\n",
    "splitted = train_test_split(category_xs, numeric_xs, ys, \n",
    "                            test_size=0.1,stratify=ys)\n",
    "\n",
    "train_category_xs, train_numeric_xs, train_ys = splitted[::2]\n",
    "test_category_xs, test_numeric_xs, test_ys = splitted[1::2]"
   ]
  },
  {
   "cell_type": "markdown",
   "metadata": {},
   "source": [
    "##  DNN handling categorical variables\n",
    "---"
   ]
  },
  {
   "cell_type": "markdown",
   "metadata": {},
   "source": [
    "### Build Model"
   ]
  },
  {
   "cell_type": "code",
   "execution_count": 20,
   "metadata": {},
   "outputs": [],
   "source": [
    "from tensorflow.keras.layers import Input, Embedding\n",
    "from tensorflow.keras.layers import Concatenate\n",
    "from tensorflow.keras.layers import Dense, Dropout\n",
    "from tensorflow.keras.regularizers import l2\n",
    "from tensorflow.keras.models import Model\n",
    "\n",
    "embed_size = 4 # Embedding Size of categorical variable\n",
    "\n",
    "category_inputs = Input((9,), dtype=tf.int32)\n",
    "numeric_inputs = Input((7,), dtype=tf.float32)\n",
    "\n",
    "category_embeds = []\n",
    "for idx, col_name in enumerate(cat_col_names):\n",
    "    # The num of values in category\n",
    "    category_size = len(category_encoders[idx].classes_)\n",
    "        \n",
    "    # Apply Embedding layer to categorical variables\n",
    "    embed_value = (\n",
    "        Embedding(category_size, embed_size, \n",
    "                  name=col_name+'_embed')(category_inputs[:,idx]))\n",
    "    \n",
    "    category_embeds.append(embed_value)\n",
    "\n",
    "# Conatenating numeric and categorical variables\n",
    "inputs_list = category_embeds + [numeric_inputs]\n",
    "concats = Concatenate(name='embed_concat')(inputs_list)\n",
    "\n",
    "# connected with 3 layer neural network\n",
    "hidden = Dense(50,activation='relu', name='hidden1',\n",
    "               kernel_regularizer=l2(1e-5))(concats)\n",
    "hidden = Dropout(0.3, name='dropout1')(hidden)\n",
    "hidden = Dense(50,activation='relu', name='hidden2',\n",
    "               kernel_regularizer=l2(1e-5))(hidden)\n",
    "hidden = Dropout(0.3, name='dropout2')(hidden)\n",
    "output = Dense(1, activation='sigmoid', name='output',\n",
    "               kernel_regularizer=l2(1e-5))(hidden)\n",
    "\n",
    "model = Model([category_inputs, numeric_inputs], output)"
   ]
  },
  {
   "cell_type": "markdown",
   "metadata": {},
   "source": [
    "#### Compile Model"
   ]
  },
  {
   "cell_type": "code",
   "execution_count": 21,
   "metadata": {},
   "outputs": [],
   "source": [
    "from tensorflow.keras.optimizers import Adagrad\n",
    "from tensorflow.keras.losses import BinaryCrossentropy\n",
    "from tensorflow.keras.metrics import BinaryAccuracy\n",
    "\n",
    "model.compile(optimizer=Adagrad(1e-2),\n",
    "              loss=BinaryCrossentropy(),\n",
    "              metrics=[BinaryAccuracy()])"
   ]
  },
  {
   "cell_type": "markdown",
   "metadata": {},
   "source": [
    "#### Train Model"
   ]
  },
  {
   "cell_type": "code",
   "execution_count": 22,
   "metadata": {},
   "outputs": [],
   "source": [
    "train_xs = [train_category_xs,train_numeric_xs]\n",
    "model.fit(x=train_xs, y=train_ys,\n",
    "          batch_size=64, epochs=100, \n",
    "          validation_split=0.1, verbose=0);"
   ]
  },
  {
   "cell_type": "markdown",
   "metadata": {},
   "source": [
    "#### Evaluate Model\n"
   ]
  },
  {
   "cell_type": "code",
   "execution_count": 25,
   "metadata": {},
   "outputs": [
    {
     "name": "stdout",
     "output_type": "stream",
     "text": [
      "Test Accuracy : 90.137%\n"
     ]
    }
   ],
   "source": [
    "loss, acc = model.evaluate(x=[test_category_xs, test_numeric_xs], \n",
    "                           y=test_ys, verbose=0)\n",
    "print(f\"Test Accuracy : {acc:.3%}\")"
   ]
  },
  {
   "cell_type": "markdown",
   "metadata": {},
   "source": [
    "### c.f) Compare with Random Forest Classifier\n"
   ]
  },
  {
   "cell_type": "code",
   "execution_count": 23,
   "metadata": {},
   "outputs": [
    {
     "data": {
      "text/plain": [
       "0.901813356921716"
      ]
     },
     "execution_count": 23,
     "metadata": {},
     "output_type": "execute_result"
    }
   ],
   "source": [
    "from sklearn.ensemble import RandomForestClassifier\n",
    "\n",
    "# Build model\n",
    "rf_clf = RandomForestClassifier()\n",
    "\n",
    "# Train model\n",
    "train_xs = np.concatenate([train_category_xs,train_numeric_xs],axis=1)\n",
    "rf_clf.fit(train_xs, train_ys)\n",
    "\n",
    "# Evaluate Model\n",
    "test_xs = np.concatenate([test_category_xs,test_numeric_xs],axis=1)\n",
    "rf_clf.score(test_xs, test_ys)"
   ]
  }
 ],
 "metadata": {
  "kernelspec": {
   "display_name": "Python 3",
   "language": "python",
   "name": "python3"
  },
  "language_info": {
   "codemirror_mode": {
    "name": "ipython",
    "version": 3
   },
   "file_extension": ".py",
   "mimetype": "text/x-python",
   "name": "python",
   "nbconvert_exporter": "python",
   "pygments_lexer": "ipython3",
   "version": "3.6.8"
  },
  "toc": {
   "base_numbering": 1,
   "nav_menu": {},
   "number_sections": false,
   "sideBar": true,
   "skip_h1_title": false,
   "title_cell": "Table of Contents",
   "title_sidebar": "Contents",
   "toc_cell": false,
   "toc_position": {},
   "toc_section_display": true,
   "toc_window_display": false
  },
  "varInspector": {
   "cols": {
    "lenName": 16,
    "lenType": 16,
    "lenVar": 40
   },
   "kernels_config": {
    "python": {
     "delete_cmd_postfix": "",
     "delete_cmd_prefix": "del ",
     "library": "var_list.py",
     "varRefreshCmd": "print(var_dic_list())"
    },
    "r": {
     "delete_cmd_postfix": ") ",
     "delete_cmd_prefix": "rm(",
     "library": "var_list.r",
     "varRefreshCmd": "cat(var_dic_list()) "
    }
   },
   "types_to_exclude": [
    "module",
    "function",
    "builtin_function_or_method",
    "instance",
    "_Feature"
   ],
   "window_display": false
  }
 },
 "nbformat": 4,
 "nbformat_minor": 2
}
